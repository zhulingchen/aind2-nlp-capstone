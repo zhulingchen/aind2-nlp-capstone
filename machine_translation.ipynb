{
 "cells": [
  {
   "cell_type": "markdown",
   "metadata": {
    "collapsed": true
   },
   "source": [
    "# Artificial Intelligence Nanodegree\n",
    "## Machine Translation Project\n",
    "In this notebook, sections that end with **'(IMPLEMENTATION)'** in the header indicate that the following blocks of code will require additional functionality which you must provide. Please be sure to read the instructions carefully!\n",
    "\n",
    "## Introduction\n",
    "In this notebook, you will build a deep neural network that functions as part of an end-to-end machine translation pipeline. Your completed pipeline will accept English text as input and return the French translation.\n",
    "\n",
    "- **Preprocess** - You'll convert text to sequence of integers.\n",
    "- **Models** Create models which accepts a sequence of integers as input and returns a probability distribution over possible translations. After learning about the basic types of neural networks that are often used for machine translation, you will engage in your own investigations, to design your own model!\n",
    "- **Prediction** Run the model on English text."
   ]
  },
  {
   "cell_type": "code",
   "execution_count": 1,
   "metadata": {},
   "outputs": [],
   "source": [
    "%load_ext autoreload\n",
    "%aimport helper, tests\n",
    "%autoreload 1"
   ]
  },
  {
   "cell_type": "code",
   "execution_count": 2,
   "metadata": {},
   "outputs": [
    {
     "name": "stderr",
     "output_type": "stream",
     "text": [
      "Using TensorFlow backend.\n"
     ]
    }
   ],
   "source": [
    "import os\n",
    "os.environ['KERAS_BACKEND'] = 'tensorflow'  # set up tensorflow backend for keras\n",
    "\n",
    "import collections\n",
    "\n",
    "import helper\n",
    "import numpy as np\n",
    "import project_tests as tests\n",
    "\n",
    "from keras.preprocessing.text import Tokenizer\n",
    "from keras.preprocessing.sequence import pad_sequences\n",
    "from keras.models import Model, load_model\n",
    "from keras.layers import GRU, LSTM, Input, Dense, TimeDistributed, Activation, Dropout, RepeatVector, Bidirectional\n",
    "from keras.layers.embeddings import Embedding\n",
    "from keras.optimizers import Adam\n",
    "from keras.losses import categorical_crossentropy, sparse_categorical_crossentropy\n",
    "from keras import backend as K"
   ]
  },
  {
   "cell_type": "markdown",
   "metadata": {},
   "source": [
    "### Verify access to the GPU\n",
    "The following test applies only if you expect to be using a GPU, e.g., while running in a Udacity Workspace or using an AWS instance with GPU support. Run the next cell, and verify that the device_type is \"GPU\".\n",
    "- If the device is not GPU & you are running from a Udacity Workspace, then save your workspace with the icon at the top, then click \"enable\" at the bottom of the workspace.\n",
    "- If the device is not GPU & you are running from an AWS instance, then refer to the cloud computing instructions in the classroom to verify your setup steps."
   ]
  },
  {
   "cell_type": "code",
   "execution_count": 3,
   "metadata": {},
   "outputs": [
    {
     "name": "stdout",
     "output_type": "stream",
     "text": [
      "[name: \"/device:CPU:0\"\n",
      "device_type: \"CPU\"\n",
      "memory_limit: 268435456\n",
      "locality {\n",
      "}\n",
      "incarnation: 4260957150027498384\n",
      ", name: \"/device:XLA_GPU:0\"\n",
      "device_type: \"XLA_GPU\"\n",
      "memory_limit: 17179869184\n",
      "locality {\n",
      "}\n",
      "incarnation: 5003440589785226632\n",
      "physical_device_desc: \"device: XLA_GPU device\"\n",
      ", name: \"/device:XLA_CPU:0\"\n",
      "device_type: \"XLA_CPU\"\n",
      "memory_limit: 17179869184\n",
      "locality {\n",
      "}\n",
      "incarnation: 3452460640413453620\n",
      "physical_device_desc: \"device: XLA_CPU device\"\n",
      ", name: \"/device:GPU:0\"\n",
      "device_type: \"GPU\"\n",
      "memory_limit: 14892338381\n",
      "locality {\n",
      "  bus_id: 1\n",
      "  links {\n",
      "  }\n",
      "}\n",
      "incarnation: 16054124007703278174\n",
      "physical_device_desc: \"device: 0, name: Tesla T4, pci bus id: 0000:00:04.0, compute capability: 7.5\"\n",
      "]\n"
     ]
    }
   ],
   "source": [
    "from tensorflow.python.client import device_lib\n",
    "print(device_lib.list_local_devices())"
   ]
  },
  {
   "cell_type": "markdown",
   "metadata": {},
   "source": [
    "## Dataset\n",
    "We begin by investigating the dataset that will be used to train and evaluate your pipeline.  The most common datasets used for machine translation are from [WMT](http://www.statmt.org/).  However, that will take a long time to train a neural network on.  We'll be using a dataset we created for this project that contains a small vocabulary.  You'll be able to train your model in a reasonable time with this dataset.\n",
    "### Load Data\n",
    "The data is located in `data/small_vocab_en` and `data/small_vocab_fr`. The `small_vocab_en` file contains English sentences with their French translations in the `small_vocab_fr` file. Load the English and French data from these files from running the cell below."
   ]
  },
  {
   "cell_type": "code",
   "execution_count": 4,
   "metadata": {},
   "outputs": [
    {
     "name": "stdout",
     "output_type": "stream",
     "text": [
      "Dataset Loaded\n"
     ]
    }
   ],
   "source": [
    "# Load English data\n",
    "english_sentences = helper.load_data('data/small_vocab_en')\n",
    "# Load French data\n",
    "french_sentences = helper.load_data('data/small_vocab_fr')\n",
    "\n",
    "print('Dataset Loaded')"
   ]
  },
  {
   "cell_type": "markdown",
   "metadata": {},
   "source": [
    "### Files\n",
    "Each line in `small_vocab_en` contains an English sentence with the respective translation in each line of `small_vocab_fr`.  View the first two lines from each file."
   ]
  },
  {
   "cell_type": "code",
   "execution_count": 5,
   "metadata": {},
   "outputs": [
    {
     "name": "stdout",
     "output_type": "stream",
     "text": [
      "small_vocab_en Line 1:  new jersey is sometimes quiet during autumn , and it is snowy in april .\n",
      "small_vocab_fr Line 1:  new jersey est parfois calme pendant l' automne , et il est neigeux en avril .\n",
      "small_vocab_en Line 2:  the united states is usually chilly during july , and it is usually freezing in november .\n",
      "small_vocab_fr Line 2:  les états-unis est généralement froid en juillet , et il gèle habituellement en novembre .\n"
     ]
    }
   ],
   "source": [
    "for sample_i in range(2):\n",
    "    print('small_vocab_en Line {}:  {}'.format(sample_i + 1, english_sentences[sample_i]))\n",
    "    print('small_vocab_fr Line {}:  {}'.format(sample_i + 1, french_sentences[sample_i]))"
   ]
  },
  {
   "cell_type": "markdown",
   "metadata": {},
   "source": [
    "From looking at the sentences, you can see they have been preprocessed already.  The puncuations have been delimited using spaces. All the text have been converted to lowercase.  This should save you some time, but the text requires more preprocessing.\n",
    "### Vocabulary\n",
    "The complexity of the problem is determined by the complexity of the vocabulary.  A more complex vocabulary is a more complex problem.  Let's look at the complexity of the dataset we'll be working with."
   ]
  },
  {
   "cell_type": "code",
   "execution_count": 6,
   "metadata": {},
   "outputs": [
    {
     "name": "stdout",
     "output_type": "stream",
     "text": [
      "1823250 English words.\n",
      "227 unique English words.\n",
      "10 Most common words in the English dataset:\n",
      "\"is\" \",\" \".\" \"in\" \"it\" \"during\" \"the\" \"but\" \"and\" \"sometimes\"\n",
      "\n",
      "1961295 French words.\n",
      "355 unique French words.\n",
      "10 Most common words in the French dataset:\n",
      "\"est\" \".\" \",\" \"en\" \"il\" \"les\" \"mais\" \"et\" \"la\" \"parfois\"\n"
     ]
    }
   ],
   "source": [
    "english_words_counter = collections.Counter([word for sentence in english_sentences for word in sentence.split()])\n",
    "french_words_counter = collections.Counter([word for sentence in french_sentences for word in sentence.split()])\n",
    "\n",
    "print('{} English words.'.format(len([word for sentence in english_sentences for word in sentence.split()])))\n",
    "print('{} unique English words.'.format(len(english_words_counter)))\n",
    "print('10 Most common words in the English dataset:')\n",
    "print('\"' + '\" \"'.join(list(zip(*english_words_counter.most_common(10)))[0]) + '\"')\n",
    "print()\n",
    "print('{} French words.'.format(len([word for sentence in french_sentences for word in sentence.split()])))\n",
    "print('{} unique French words.'.format(len(french_words_counter)))\n",
    "print('10 Most common words in the French dataset:')\n",
    "print('\"' + '\" \"'.join(list(zip(*french_words_counter.most_common(10)))[0]) + '\"')"
   ]
  },
  {
   "cell_type": "markdown",
   "metadata": {},
   "source": [
    "For comparison, _Alice's Adventures in Wonderland_ contains 2,766 unique words of a total of 15,500 words.\n",
    "## Preprocess\n",
    "For this project, you won't use text data as input to your model. Instead, you'll convert the text into sequences of integers using the following preprocess methods:\n",
    "1. Tokenize the words into ids\n",
    "2. Add padding to make all the sequences the same length.\n",
    "\n",
    "Time to start preprocessing the data...\n",
    "### Tokenize (IMPLEMENTATION)\n",
    "For a neural network to predict on text data, it first has to be turned into data it can understand. Text data like \"dog\" is a sequence of ASCII character encodings.  Since a neural network is a series of multiplication and addition operations, the input data needs to be number(s).\n",
    "\n",
    "We can turn each character into a number or each word into a number.  These are called character and word ids, respectively.  Character ids are used for character level models that generate text predictions for each character.  A word level model uses word ids that generate text predictions for each word.  Word level models tend to learn better, since they are lower in complexity, so we'll use those.\n",
    "\n",
    "Turn each sentence into a sequence of words ids using Keras's [`Tokenizer`](https://keras.io/preprocessing/text/#tokenizer) function. Use this function to tokenize `english_sentences` and `french_sentences` in the cell below.\n",
    "\n",
    "Running the cell will run `tokenize` on sample data and show output for debugging."
   ]
  },
  {
   "cell_type": "code",
   "execution_count": 7,
   "metadata": {},
   "outputs": [
    {
     "name": "stdout",
     "output_type": "stream",
     "text": [
      "[[1, 2, 4, 5, 6, 7, 1, 8, 9], [10, 11, 12, 2, 13, 14, 15, 16, 3, 17], [18, 19, 3, 20, 21]]\n",
      "{'the': 1, 'quick': 2, 'a': 3, 'brown': 4, 'fox': 5, 'jumps': 6, 'over': 7, 'lazy': 8, 'dog': 9, 'by': 10, 'jove': 11, 'my': 12, 'study': 13, 'of': 14, 'lexicography': 15, 'won': 16, 'prize': 17, 'this': 18, 'is': 19, 'short': 20, 'sentence': 21}\n",
      "\n",
      "Sequence 1 in x\n",
      "  Input:  The quick brown fox jumps over the lazy dog .\n",
      "  Output: [1, 2, 4, 5, 6, 7, 1, 8, 9]\n",
      "Sequence 2 in x\n",
      "  Input:  By Jove , my quick study of lexicography won a prize .\n",
      "  Output: [10, 11, 12, 2, 13, 14, 15, 16, 3, 17]\n",
      "Sequence 3 in x\n",
      "  Input:  This is a short sentence .\n",
      "  Output: [18, 19, 3, 20, 21]\n"
     ]
    }
   ],
   "source": [
    "def tokenize(x):\n",
    "    \"\"\"\n",
    "    Tokenize x\n",
    "    :param x: List of sentences/strings to be tokenized\n",
    "    :return: Tuple of (tokenized x data, tokenizer used to tokenize x)\n",
    "    \"\"\"\n",
    "    # TODO: Implement\n",
    "    #\n",
    "    # Reference\n",
    "    # What does Keras Tokenizer method exactly do?\n",
    "    # https://stackoverflow.com/questions/51956000/what-does-keras-tokenizer-method-exactly-do\n",
    "    tokenizer = Tokenizer()\n",
    "    tokenizer.fit_on_texts(x)\n",
    "\n",
    "    return tokenizer.texts_to_sequences(x), tokenizer\n",
    "tests.test_tokenize(tokenize)\n",
    "\n",
    "# Tokenize Example output\n",
    "text_sentences = [\n",
    "    'The quick brown fox jumps over the lazy dog .',\n",
    "    'By Jove , my quick study of lexicography won a prize .',\n",
    "    'This is a short sentence .']\n",
    "text_tokenized, text_tokenizer = tokenize(text_sentences)\n",
    "print(text_tokenized)\n",
    "print(text_tokenizer.word_index)\n",
    "print()\n",
    "for sample_i, (sent, token_sent) in enumerate(zip(text_sentences, text_tokenized)):\n",
    "    print('Sequence {} in x'.format(sample_i + 1))\n",
    "    print('  Input:  {}'.format(sent))\n",
    "    print('  Output: {}'.format(token_sent))"
   ]
  },
  {
   "cell_type": "markdown",
   "metadata": {},
   "source": [
    "### Padding (IMPLEMENTATION)\n",
    "When batching the sequence of word ids together, each sequence needs to be the same length.  Since sentences are dynamic in length, we can add padding to the end of the sequences to make them the same length.\n",
    "\n",
    "Make sure all the English sequences have the same length and all the French sequences have the same length by adding padding to the **end** of each sequence using Keras's [`pad_sequences`](https://keras.io/preprocessing/sequence/#pad_sequences) function."
   ]
  },
  {
   "cell_type": "code",
   "execution_count": 8,
   "metadata": {},
   "outputs": [
    {
     "name": "stdout",
     "output_type": "stream",
     "text": [
      "Sequence 1 in x\n",
      "  Input:  [1 2 4 5 6 7 1 8 9]\n",
      "  Output: [1 2 4 5 6 7 1 8 9 0]\n",
      "Sequence 2 in x\n",
      "  Input:  [10 11 12  2 13 14 15 16  3 17]\n",
      "  Output: [10 11 12  2 13 14 15 16  3 17]\n",
      "Sequence 3 in x\n",
      "  Input:  [18 19  3 20 21]\n",
      "  Output: [18 19  3 20 21  0  0  0  0  0]\n"
     ]
    }
   ],
   "source": [
    "def pad(x, length=None):\n",
    "    \"\"\"\n",
    "    Pad x\n",
    "    :param x: List of sequences.\n",
    "    :param length: Length to pad the sequence to.  If None, use length of longest sequence in x.\n",
    "    :return: Padded numpy array of sequences\n",
    "    \"\"\"\n",
    "    # TODO: Implement\n",
    "    return pad_sequences(x, maxlen=length, padding=\"post\", truncating=\"post\")  # add padding to the end of each sequence\n",
    "tests.test_pad(pad)\n",
    "\n",
    "# Pad Tokenized output\n",
    "test_pad = pad(text_tokenized)\n",
    "for sample_i, (token_sent, pad_sent) in enumerate(zip(text_tokenized, test_pad)):\n",
    "    print('Sequence {} in x'.format(sample_i + 1))\n",
    "    print('  Input:  {}'.format(np.array(token_sent)))\n",
    "    print('  Output: {}'.format(pad_sent))"
   ]
  },
  {
   "cell_type": "markdown",
   "metadata": {},
   "source": [
    "### Preprocess Pipeline\n",
    "Your focus for this project is to build neural network architecture, so we won't ask you to create a preprocess pipeline.  Instead, we've provided you with the implementation of the `preprocess` function."
   ]
  },
  {
   "cell_type": "code",
   "execution_count": 9,
   "metadata": {},
   "outputs": [
    {
     "name": "stdout",
     "output_type": "stream",
     "text": [
      "Data Preprocessed\n",
      "Max English sentence length: 15\n",
      "Max French sentence length: 21\n",
      "English vocabulary size: 199\n",
      "French vocabulary size: 344\n"
     ]
    }
   ],
   "source": [
    "def preprocess(x, y):\n",
    "    \"\"\"\n",
    "    Preprocess x and y\n",
    "    :param x: Feature List of sentences\n",
    "    :param y: Label List of sentences\n",
    "    :return: Tuple of (Preprocessed x, Preprocessed y, x tokenizer, y tokenizer)\n",
    "    \"\"\"\n",
    "    preprocess_x, x_tk = tokenize(x)\n",
    "    preprocess_y, y_tk = tokenize(y)\n",
    "\n",
    "    preprocess_x = pad(preprocess_x)\n",
    "    preprocess_y = pad(preprocess_y)\n",
    "\n",
    "    # Keras's sparse_categorical_crossentropy function requires the labels to be in 3 dimensions\n",
    "    preprocess_y = preprocess_y.reshape(*preprocess_y.shape, 1)\n",
    "\n",
    "    return preprocess_x, preprocess_y, x_tk, y_tk\n",
    "\n",
    "preproc_english_sentences, preproc_french_sentences, english_tokenizer, french_tokenizer =\\\n",
    "    preprocess(english_sentences, french_sentences)\n",
    "    \n",
    "max_english_sequence_length = preproc_english_sentences.shape[1]\n",
    "max_french_sequence_length = preproc_french_sentences.shape[1]\n",
    "english_vocab_size = len(english_tokenizer.word_index)\n",
    "french_vocab_size = len(french_tokenizer.word_index)\n",
    "\n",
    "print('Data Preprocessed')\n",
    "print(\"Max English sentence length:\", max_english_sequence_length)\n",
    "print(\"Max French sentence length:\", max_french_sequence_length)\n",
    "print(\"English vocabulary size:\", english_vocab_size)\n",
    "print(\"French vocabulary size:\", french_vocab_size)"
   ]
  },
  {
   "cell_type": "markdown",
   "metadata": {},
   "source": [
    "## Models\n",
    "In this section, you will experiment with various neural network architectures.\n",
    "You will begin by training four relatively simple architectures.\n",
    "- Model 1 is a simple RNN\n",
    "- Model 2 is a RNN with Embedding\n",
    "- Model 3 is a Bidirectional RNN\n",
    "- Model 4 is an optional Encoder-Decoder RNN\n",
    "\n",
    "After experimenting with the four simple architectures, you will construct a deeper architecture that is designed to outperform all four models.\n",
    "### Ids Back to Text\n",
    "The neural network will be translating the input to words ids, which isn't the final form we want.  We want the French translation.  The function `logits_to_text` will bridge the gab between the logits from the neural network to the French translation.  You'll be using this function to better understand the output of the neural network."
   ]
  },
  {
   "cell_type": "code",
   "execution_count": 10,
   "metadata": {},
   "outputs": [
    {
     "name": "stdout",
     "output_type": "stream",
     "text": [
      "`logits_to_text` function loaded.\n"
     ]
    }
   ],
   "source": [
    "def logits_to_text(logits, tokenizer):\n",
    "    \"\"\"\n",
    "    Turn logits from a neural network into text using the tokenizer\n",
    "    :param logits: Logits from a neural network\n",
    "    :param tokenizer: Keras Tokenizer fit on the labels\n",
    "    :return: String that represents the text of the logits\n",
    "    \"\"\"\n",
    "    index_to_words = {id: word for word, id in tokenizer.word_index.items()}\n",
    "    index_to_words[0] = '<PAD>'\n",
    "\n",
    "    return ' '.join([index_to_words[prediction] for prediction in np.argmax(logits, 1)])\n",
    "\n",
    "print('`logits_to_text` function loaded.')"
   ]
  },
  {
   "cell_type": "markdown",
   "metadata": {},
   "source": [
    "### Model 1: RNN (IMPLEMENTATION)\n",
    "![RNN](images/rnn.png)\n",
    "A basic RNN model is a good baseline for sequence data.  In this model, you'll build a RNN that translates English to French."
   ]
  },
  {
   "cell_type": "code",
   "execution_count": 11,
   "metadata": {},
   "outputs": [],
   "source": [
    "# keras version >2.2.2 bug: Error InvalidArgumentError: Incompatible shapes\n",
    "# Solution:\n",
    "# https://github.com/keras-team/keras/issues/11749\n",
    "# define a customized accuracy, and then use metrics = [custom_sparse_categorical_accuracy] along with loss='sparse_categorical_crossentropy'\n",
    "def custom_sparse_categorical_accuracy(y_true, y_pred):\n",
    "    return K.cast(K.equal(K.max(y_true, axis=-1),\n",
    "                          K.cast(K.argmax(y_pred, axis=-1), K.floatx())), K.floatx())"
   ]
  },
  {
   "cell_type": "code",
   "execution_count": 12,
   "metadata": {},
   "outputs": [
    {
     "name": "stdout",
     "output_type": "stream",
     "text": [
      "WARNING:tensorflow:From /usr/lib/python3.6/site-packages/tensorflow/python/framework/op_def_library.py:263: colocate_with (from tensorflow.python.framework.ops) is deprecated and will be removed in a future version.\n",
      "Instructions for updating:\n",
      "Colocations handled automatically by placer.\n",
      "WARNING:tensorflow:From /usr/lib64/python3.6/site-packages/keras/backend/tensorflow_backend.py:3445: calling dropout (from tensorflow.python.ops.nn_ops) with keep_prob is deprecated and will be removed in a future version.\n",
      "Instructions for updating:\n",
      "Please use `rate` instead of `keep_prob`. Rate should be set to `rate = 1 - keep_prob`.\n"
     ]
    }
   ],
   "source": [
    "def simple_model(input_shape, output_sequence_length, english_vocab_size, french_vocab_size):\n",
    "    \"\"\"\n",
    "    Build and train a basic RNN on x and y\n",
    "    :param input_shape: Tuple of input shape\n",
    "    :param output_sequence_length: Length of output sequence (not required actually)\n",
    "    :param english_vocab_size: Number of unique English words in the dataset (not required actually)\n",
    "    :param french_vocab_size: Number of unique French words in the dataset\n",
    "    :return: Keras model built, but not trained\n",
    "    \"\"\"\n",
    "    # TODO: Build the layers\n",
    "    learning_rate = 1e-3\n",
    "    model_in = Input(shape=input_shape[1:])\n",
    "    x = GRU(512, activation='relu', recurrent_activation='hard_sigmoid',\n",
    "            dropout=0.1, recurrent_dropout=0.1,\n",
    "            return_sequences=True)(model_in)\n",
    "    model_out = TimeDistributed(Dense(french_vocab_size, activation='softmax'))(x)\n",
    "    model = Model(model_in, model_out)\n",
    "    model.compile(loss=sparse_categorical_crossentropy,\n",
    "                  optimizer=Adam(learning_rate),\n",
    "                  metrics=[custom_sparse_categorical_accuracy])\n",
    "    return model\n",
    "tests.test_simple_model(simple_model)"
   ]
  },
  {
   "cell_type": "code",
   "execution_count": 13,
   "metadata": {},
   "outputs": [
    {
     "name": "stdout",
     "output_type": "stream",
     "text": [
      "Preprocessed English sentences shape: (137861, 15)\n",
      "Preprocessed French sentences shape: (137861, 21, 1)\n",
      "Preprocessed English sentences shape after padding to length (21) of French sentences: (137861, 21)\n",
      "Preprocessed English sentences shape after reshaping: (137861, 21, 1)\n"
     ]
    }
   ],
   "source": [
    "# Reshaping the input to work with a basic RNN\n",
    "print(\"Preprocessed English sentences shape:\", preproc_english_sentences.shape)\n",
    "print(\"Preprocessed French sentences shape:\", preproc_french_sentences.shape)\n",
    "tmp_x = pad(preproc_english_sentences, max_french_sequence_length)\n",
    "print(\"Preprocessed English sentences shape after padding to length ({}) of French sentences: {}\".format(max_french_sequence_length,\n",
    "                                                                                                         tmp_x.shape))\n",
    "tmp_x = tmp_x.reshape((-1, max_french_sequence_length, 1))\n",
    "print(\"Preprocessed English sentences shape after reshaping:\", tmp_x.shape)"
   ]
  },
  {
   "cell_type": "code",
   "execution_count": 14,
   "metadata": {},
   "outputs": [
    {
     "name": "stdout",
     "output_type": "stream",
     "text": [
      "_________________________________________________________________\n",
      "Layer (type)                 Output Shape              Param #   \n",
      "=================================================================\n",
      "input_2 (InputLayer)         (None, 21, 1)             0         \n",
      "_________________________________________________________________\n",
      "gru_2 (GRU)                  (None, 21, 512)           789504    \n",
      "_________________________________________________________________\n",
      "time_distributed_2 (TimeDist (None, 21, 344)           176472    \n",
      "=================================================================\n",
      "Total params: 965,976\n",
      "Trainable params: 965,976\n",
      "Non-trainable params: 0\n",
      "_________________________________________________________________\n",
      "WARNING:tensorflow:From /usr/lib/python3.6/site-packages/tensorflow/python/ops/math_ops.py:3066: to_int32 (from tensorflow.python.ops.math_ops) is deprecated and will be removed in a future version.\n",
      "Instructions for updating:\n",
      "Use tf.cast instead.\n",
      "Train on 110288 samples, validate on 27573 samples\n",
      "Epoch 1/10\n",
      "110288/110288 [==============================] - 11s 98us/step - loss: 2.3633 - custom_sparse_categorical_accuracy: 0.5128 - val_loss: nan - val_custom_sparse_categorical_accuracy: 0.6036\n",
      "Epoch 2/10\n",
      "110288/110288 [==============================] - 9s 81us/step - loss: 1.5046 - custom_sparse_categorical_accuracy: 0.6024 - val_loss: nan - val_custom_sparse_categorical_accuracy: 0.6143\n",
      "Epoch 3/10\n",
      "110288/110288 [==============================] - 9s 82us/step - loss: 1.3493 - custom_sparse_categorical_accuracy: 0.6224 - val_loss: nan - val_custom_sparse_categorical_accuracy: 0.6215\n",
      "Epoch 4/10\n",
      "110288/110288 [==============================] - 9s 80us/step - loss: 1.2639 - custom_sparse_categorical_accuracy: 0.6354 - val_loss: nan - val_custom_sparse_categorical_accuracy: 0.6368\n",
      "Epoch 5/10\n",
      "110288/110288 [==============================] - 9s 79us/step - loss: 1.2032 - custom_sparse_categorical_accuracy: 0.6441 - val_loss: nan - val_custom_sparse_categorical_accuracy: 0.6430\n",
      "Epoch 6/10\n",
      "110288/110288 [==============================] - 9s 78us/step - loss: 1.1622 - custom_sparse_categorical_accuracy: 0.6500 - val_loss: nan - val_custom_sparse_categorical_accuracy: 0.6400\n",
      "Epoch 7/10\n",
      "110288/110288 [==============================] - 9s 78us/step - loss: 1.1236 - custom_sparse_categorical_accuracy: 0.6575 - val_loss: nan - val_custom_sparse_categorical_accuracy: 0.6433\n",
      "Epoch 8/10\n",
      "110288/110288 [==============================] - 9s 78us/step - loss: 1.0931 - custom_sparse_categorical_accuracy: 0.6623 - val_loss: nan - val_custom_sparse_categorical_accuracy: 0.6403\n",
      "Epoch 9/10\n",
      "110288/110288 [==============================] - 9s 78us/step - loss: 1.0710 - custom_sparse_categorical_accuracy: 0.6648 - val_loss: nan - val_custom_sparse_categorical_accuracy: 0.6406\n",
      "Epoch 10/10\n",
      "110288/110288 [==============================] - 9s 78us/step - loss: 1.0501 - custom_sparse_categorical_accuracy: 0.6693 - val_loss: nan - val_custom_sparse_categorical_accuracy: 0.6246\n",
      "Train model is saved to simple_rnn_weights.h5\n"
     ]
    }
   ],
   "source": [
    "# Train the neural network\n",
    "weights_file = \"simple_rnn_weights.h5\"\n",
    "if not os.path.isfile(weights_file):\n",
    "    simple_rnn_model = simple_model(tmp_x.shape,\n",
    "                                    max_french_sequence_length,  # not required actually\n",
    "                                    english_vocab_size,  # not required actually\n",
    "                                    french_vocab_size)\n",
    "    simple_rnn_model.summary()\n",
    "    simple_rnn_model.fit(tmp_x, preproc_french_sentences, batch_size=1024, epochs=10, validation_split=0.2)\n",
    "    simple_rnn_model.save(weights_file)\n",
    "    print(\"Train model is saved to {}\".format(weights_file))\n",
    "else:\n",
    "    simple_rnn_model = load_model(weights_file,\n",
    "                                  custom_objects={'custom_sparse_categorical_accuracy':\n",
    "                                                  custom_sparse_categorical_accuracy})\n",
    "    print(\"Train model is loaded from {}\".format(weights_file))\n",
    "    simple_rnn_model.summary()"
   ]
  },
  {
   "cell_type": "code",
   "execution_count": 15,
   "metadata": {},
   "outputs": [
    {
     "name": "stdout",
     "output_type": "stream",
     "text": [
      "Original English:\n",
      " new jersey is sometimes quiet during autumn , and it is snowy in april .\n",
      "Original French:\n",
      " new jersey est parfois calme pendant l' automne , et il est neigeux en avril .\n",
      "Translated French with a basic RNN model:\n",
      " new jersey est parfois doux en l' et il est agréable en septembre <PAD> <PAD> <PAD> <PAD> <PAD> <PAD> <PAD> <PAD>\n"
     ]
    }
   ],
   "source": [
    "# Print original(s)\n",
    "print(\"Original English:\\n\", english_sentences[0])\n",
    "print(\"Original French:\\n\", french_sentences[0])\n",
    "\n",
    "# Print prediction(s)\n",
    "print(\"Translated French with a basic RNN model:\\n\", logits_to_text(simple_rnn_model.predict(tmp_x[:1])[0], french_tokenizer))"
   ]
  },
  {
   "cell_type": "markdown",
   "metadata": {},
   "source": [
    "### Model 2: Embedding (IMPLEMENTATION)\n",
    "![RNN](images/embedding.png)\n",
    "You've turned the words into ids, but there's a better representation of a word.  This is called word embeddings.  An embedding is a vector representation of the word that is close to similar words in n-dimensional space, where the n represents the size of the embedding vectors.\n",
    "\n",
    "In this model, you'll create a RNN model using embedding."
   ]
  },
  {
   "cell_type": "code",
   "execution_count": 16,
   "metadata": {},
   "outputs": [],
   "source": [
    "def embed_model(input_shape, output_sequence_length, english_vocab_size, french_vocab_size):\n",
    "    \"\"\"\n",
    "    Build and train a RNN model using word embedding on x and y\n",
    "    :param input_shape: Tuple of input shape\n",
    "    :param output_sequence_length: Length of output sequence\n",
    "    :param english_vocab_size: Number of unique English words in the dataset\n",
    "    :param french_vocab_size: Number of unique French words in the dataset\n",
    "    :return: Keras model built, but not trained\n",
    "    \"\"\"\n",
    "    # TODO: Implement\n",
    "    learning_rate = 1e-3\n",
    "    model_in = Input(shape=input_shape[1:])\n",
    "    x = Embedding(input_dim=english_vocab_size,\n",
    "                  output_dim=128,\n",
    "                  input_length=output_sequence_length)(model_in)\n",
    "    x = GRU(512, activation='relu', recurrent_activation='hard_sigmoid',\n",
    "            dropout=0.25, recurrent_dropout=0.25,\n",
    "            return_sequences=True)(x)\n",
    "    model_out = TimeDistributed(Dense(french_vocab_size, activation='softmax'))(x)\n",
    "    model = Model(model_in, model_out)\n",
    "    model.compile(loss=sparse_categorical_crossentropy,\n",
    "                  optimizer=Adam(learning_rate),\n",
    "                  metrics=[custom_sparse_categorical_accuracy])\n",
    "    return model\n",
    "tests.test_embed_model(embed_model)"
   ]
  },
  {
   "cell_type": "code",
   "execution_count": 17,
   "metadata": {},
   "outputs": [
    {
     "name": "stdout",
     "output_type": "stream",
     "text": [
      "Preprocessed English sentences shape after reshaping: (137861, 21)\n"
     ]
    }
   ],
   "source": [
    "# TODO: Reshape the input\n",
    "tmp_x = tmp_x.reshape((-1, max_french_sequence_length))\n",
    "print(\"Preprocessed English sentences shape after reshaping:\", tmp_x.shape)"
   ]
  },
  {
   "cell_type": "code",
   "execution_count": 18,
   "metadata": {},
   "outputs": [
    {
     "name": "stdout",
     "output_type": "stream",
     "text": [
      "_________________________________________________________________\n",
      "Layer (type)                 Output Shape              Param #   \n",
      "=================================================================\n",
      "input_4 (InputLayer)         (None, 21)                0         \n",
      "_________________________________________________________________\n",
      "embedding_2 (Embedding)      (None, 21, 128)           25472     \n",
      "_________________________________________________________________\n",
      "gru_4 (GRU)                  (None, 21, 512)           984576    \n",
      "_________________________________________________________________\n",
      "time_distributed_4 (TimeDist (None, 21, 344)           176472    \n",
      "=================================================================\n",
      "Total params: 1,186,520\n",
      "Trainable params: 1,186,520\n",
      "Non-trainable params: 0\n",
      "_________________________________________________________________\n",
      "Train on 110288 samples, validate on 27573 samples\n",
      "Epoch 1/10\n",
      "110288/110288 [==============================] - 11s 98us/step - loss: 2.9650 - custom_sparse_categorical_accuracy: 0.4678 - val_loss: nan - val_custom_sparse_categorical_accuracy: 0.5625\n",
      "Epoch 2/10\n",
      "110288/110288 [==============================] - 10s 89us/step - loss: 1.4507 - custom_sparse_categorical_accuracy: 0.6460 - val_loss: nan - val_custom_sparse_categorical_accuracy: 0.7400\n",
      "Epoch 3/10\n",
      "110288/110288 [==============================] - 10s 90us/step - loss: 0.8651 - custom_sparse_categorical_accuracy: 0.7686 - val_loss: nan - val_custom_sparse_categorical_accuracy: 0.8256\n",
      "Epoch 4/10\n",
      "110288/110288 [==============================] - 10s 89us/step - loss: 0.5993 - custom_sparse_categorical_accuracy: 0.8227 - val_loss: nan - val_custom_sparse_categorical_accuracy: 0.8604\n",
      "Epoch 5/10\n",
      "110288/110288 [==============================] - 10s 89us/step - loss: 0.4795 - custom_sparse_categorical_accuracy: 0.8519 - val_loss: nan - val_custom_sparse_categorical_accuracy: 0.8824\n",
      "Epoch 6/10\n",
      "110288/110288 [==============================] - 10s 88us/step - loss: 0.4123 - custom_sparse_categorical_accuracy: 0.8694 - val_loss: nan - val_custom_sparse_categorical_accuracy: 0.8937\n",
      "Epoch 7/10\n",
      "110288/110288 [==============================] - 10s 88us/step - loss: 0.3716 - custom_sparse_categorical_accuracy: 0.8803 - val_loss: nan - val_custom_sparse_categorical_accuracy: 0.9007\n",
      "Epoch 8/10\n",
      "110288/110288 [==============================] - 10s 88us/step - loss: 0.3417 - custom_sparse_categorical_accuracy: 0.8890 - val_loss: nan - val_custom_sparse_categorical_accuracy: 0.9078\n",
      "Epoch 9/10\n",
      "110288/110288 [==============================] - 10s 88us/step - loss: 0.3199 - custom_sparse_categorical_accuracy: 0.8946 - val_loss: nan - val_custom_sparse_categorical_accuracy: 0.9132\n",
      "Epoch 10/10\n",
      "110288/110288 [==============================] - 10s 88us/step - loss: 0.3019 - custom_sparse_categorical_accuracy: 0.9000 - val_loss: nan - val_custom_sparse_categorical_accuracy: 0.9162\n",
      "Train model is saved to embed_rnn_weights.h5\n"
     ]
    }
   ],
   "source": [
    "# TODO: Train the neural network\n",
    "weights_file = \"embed_rnn_weights.h5\"\n",
    "if not os.path.isfile(weights_file):\n",
    "    embed_rnn_model = embed_model(tmp_x.shape,\n",
    "                                  max_french_sequence_length,\n",
    "                                  english_vocab_size,\n",
    "                                  french_vocab_size)\n",
    "    embed_rnn_model.summary()\n",
    "    embed_rnn_model.fit(tmp_x, preproc_french_sentences, batch_size=1024, epochs=10, validation_split=0.2)\n",
    "    embed_rnn_model.save(weights_file)\n",
    "    print(\"Train model is saved to {}\".format(weights_file))\n",
    "else:\n",
    "    embed_rnn_model = load_model(weights_file,\n",
    "                                 custom_objects={'custom_sparse_categorical_accuracy':\n",
    "                                                 custom_sparse_categorical_accuracy})\n",
    "    print(\"Train model is loaded from {}\".format(weights_file))\n",
    "    embed_rnn_model.summary()"
   ]
  },
  {
   "cell_type": "code",
   "execution_count": 19,
   "metadata": {},
   "outputs": [
    {
     "name": "stdout",
     "output_type": "stream",
     "text": [
      "Original English:\n",
      " new jersey is sometimes quiet during autumn , and it is snowy in april .\n",
      "Original French:\n",
      " new jersey est parfois calme pendant l' automne , et il est neigeux en avril .\n",
      "Translated French with an embedding RNN model:\n",
      " new jersey est parfois calme en l' automne et il et neigeux en avril <PAD> <PAD> <PAD> <PAD> <PAD> <PAD> <PAD>\n"
     ]
    }
   ],
   "source": [
    "# Print original(s)\n",
    "print(\"Original English:\\n\", english_sentences[0])\n",
    "print(\"Original French:\\n\", french_sentences[0])\n",
    "\n",
    "# TODO: Print prediction(s)\n",
    "print(\"Translated French with an embedding RNN model:\\n\", logits_to_text(embed_rnn_model.predict(tmp_x[:1])[0], french_tokenizer))"
   ]
  },
  {
   "cell_type": "markdown",
   "metadata": {},
   "source": [
    "### Model 3: Bidirectional RNNs (IMPLEMENTATION)\n",
    "![RNN](images/bidirectional.png)\n",
    "One restriction of a RNN is that it can't see the future input, only the past.  This is where bidirectional recurrent neural networks come in.  They are able to see the future data."
   ]
  },
  {
   "cell_type": "code",
   "execution_count": 20,
   "metadata": {},
   "outputs": [],
   "source": [
    "def bd_model(input_shape, output_sequence_length, english_vocab_size, french_vocab_size):\n",
    "    \"\"\"\n",
    "    Build and train a bidirectional RNN model on x and y\n",
    "    :param input_shape: Tuple of input shape\n",
    "    :param output_sequence_length: Length of output sequence (not required actually)\n",
    "    :param english_vocab_size: Number of unique English words in the dataset (not required actually)\n",
    "    :param french_vocab_size: Number of unique French words in the dataset\n",
    "    :return: Keras model built, but not trained\n",
    "    \"\"\"\n",
    "    # TODO: Implement\n",
    "    learning_rate = 1e-3\n",
    "    model_in = Input(shape=input_shape[1:])\n",
    "    x = Bidirectional(GRU(512, activation='relu', recurrent_activation='hard_sigmoid',\n",
    "                          dropout=0.25, recurrent_dropout=0.25,\n",
    "                          return_sequences=True))(model_in)\n",
    "    model_out = TimeDistributed(Dense(french_vocab_size, activation='softmax'))(x)\n",
    "    model = Model(model_in, model_out)\n",
    "    model.compile(loss=sparse_categorical_crossentropy,\n",
    "                  optimizer=Adam(learning_rate),\n",
    "                  metrics=[custom_sparse_categorical_accuracy])\n",
    "    return model\n",
    "tests.test_bd_model(bd_model)"
   ]
  },
  {
   "cell_type": "code",
   "execution_count": 21,
   "metadata": {},
   "outputs": [
    {
     "name": "stdout",
     "output_type": "stream",
     "text": [
      "Preprocessed English sentences shape after reshaping: (137861, 21, 1)\n"
     ]
    }
   ],
   "source": [
    "# TODO: Reshape the input\n",
    "tmp_x = tmp_x.reshape((-1, max_french_sequence_length, 1))\n",
    "print(\"Preprocessed English sentences shape after reshaping:\", tmp_x.shape)"
   ]
  },
  {
   "cell_type": "code",
   "execution_count": 22,
   "metadata": {},
   "outputs": [
    {
     "name": "stdout",
     "output_type": "stream",
     "text": [
      "_________________________________________________________________\n",
      "Layer (type)                 Output Shape              Param #   \n",
      "=================================================================\n",
      "input_6 (InputLayer)         (None, 21, 1)             0         \n",
      "_________________________________________________________________\n",
      "bidirectional_2 (Bidirection (None, 21, 1024)          1579008   \n",
      "_________________________________________________________________\n",
      "time_distributed_6 (TimeDist (None, 21, 344)           352600    \n",
      "=================================================================\n",
      "Total params: 1,931,608\n",
      "Trainable params: 1,931,608\n",
      "Non-trainable params: 0\n",
      "_________________________________________________________________\n",
      "Train on 110288 samples, validate on 27573 samples\n",
      "Epoch 1/10\n",
      "110288/110288 [==============================] - 18s 167us/step - loss: 2.1664 - custom_sparse_categorical_accuracy: 0.5367 - val_loss: nan - val_custom_sparse_categorical_accuracy: 0.6075\n",
      "Epoch 2/10\n",
      "110288/110288 [==============================] - 17s 153us/step - loss: 1.3883 - custom_sparse_categorical_accuracy: 0.6133 - val_loss: nan - val_custom_sparse_categorical_accuracy: 0.6259\n",
      "Epoch 3/10\n",
      "110288/110288 [==============================] - 17s 152us/step - loss: 1.2657 - custom_sparse_categorical_accuracy: 0.6335 - val_loss: nan - val_custom_sparse_categorical_accuracy: 0.6178\n",
      "Epoch 4/10\n",
      "110288/110288 [==============================] - 17s 152us/step - loss: 1.1969 - custom_sparse_categorical_accuracy: 0.6464 - val_loss: nan - val_custom_sparse_categorical_accuracy: 0.6205\n",
      "Epoch 5/10\n",
      "110288/110288 [==============================] - 17s 151us/step - loss: 1.1485 - custom_sparse_categorical_accuracy: 0.6552 - val_loss: nan - val_custom_sparse_categorical_accuracy: 0.6120\n",
      "Epoch 6/10\n",
      "110288/110288 [==============================] - 17s 151us/step - loss: 1.1119 - custom_sparse_categorical_accuracy: 0.6616 - val_loss: nan - val_custom_sparse_categorical_accuracy: 0.5870\n",
      "Epoch 7/10\n",
      "110288/110288 [==============================] - 17s 151us/step - loss: 1.0807 - custom_sparse_categorical_accuracy: 0.6671 - val_loss: nan - val_custom_sparse_categorical_accuracy: 0.5915\n",
      "Epoch 8/10\n",
      "110288/110288 [==============================] - 17s 152us/step - loss: 1.0565 - custom_sparse_categorical_accuracy: 0.6713 - val_loss: nan - val_custom_sparse_categorical_accuracy: 0.5907\n",
      "Epoch 9/10\n",
      "110288/110288 [==============================] - 17s 153us/step - loss: 1.0346 - custom_sparse_categorical_accuracy: 0.6742 - val_loss: nan - val_custom_sparse_categorical_accuracy: 0.5871\n",
      "Epoch 10/10\n",
      "110288/110288 [==============================] - 17s 152us/step - loss: 1.0171 - custom_sparse_categorical_accuracy: 0.6773 - val_loss: nan - val_custom_sparse_categorical_accuracy: 0.5773\n",
      "Train model is saved to bd_rnn_weights.h5\n"
     ]
    }
   ],
   "source": [
    "# TODO: Train the neural network\n",
    "weights_file = \"bd_rnn_weights.h5\"\n",
    "if not os.path.isfile(weights_file):\n",
    "    bd_rnn_model = bd_model(tmp_x.shape,\n",
    "                            max_french_sequence_length,  # not required actually\n",
    "                            english_vocab_size,  # not required actually\n",
    "                            french_vocab_size)\n",
    "    bd_rnn_model.summary()\n",
    "    bd_rnn_model.fit(tmp_x, preproc_french_sentences, batch_size=1024, epochs=10, validation_split=0.2)\n",
    "    bd_rnn_model.save(weights_file)\n",
    "    print(\"Train model is saved to {}\".format(weights_file))\n",
    "else:\n",
    "    bd_rnn_model = load_model(weights_file,\n",
    "                              custom_objects={'custom_sparse_categorical_accuracy':\n",
    "                                              custom_sparse_categorical_accuracy})\n",
    "    print(\"Train model is loaded from {}\".format(weights_file))\n",
    "    bd_rnn_model.summary()"
   ]
  },
  {
   "cell_type": "code",
   "execution_count": 23,
   "metadata": {},
   "outputs": [
    {
     "name": "stdout",
     "output_type": "stream",
     "text": [
      "Original English:\n",
      " new jersey is sometimes quiet during autumn , and it is snowy in april .\n",
      "Original French:\n",
      " new jersey est parfois calme pendant l' automne , et il est neigeux en avril .\n",
      "Translated French with a bidirectional RNN model:\n",
      " new jersey est parfois parfois en juin mais il est agréable en en <PAD> <PAD> <PAD> <PAD> <PAD> <PAD> <PAD> <PAD>\n"
     ]
    }
   ],
   "source": [
    "# Print original(s)\n",
    "print(\"Original English:\\n\", english_sentences[0])\n",
    "print(\"Original French:\\n\", french_sentences[0])\n",
    "\n",
    "# TODO: Print prediction(s)\n",
    "print(\"Translated French with a bidirectional RNN model:\\n\", logits_to_text(bd_rnn_model.predict(tmp_x[:1])[0], french_tokenizer))"
   ]
  },
  {
   "cell_type": "markdown",
   "metadata": {},
   "source": [
    "### Model 4: Encoder-Decoder (OPTIONAL)\n",
    "Time to look at encoder-decoder models.  This model is made up of an encoder and decoder. The encoder creates a matrix representation of the sentence.  The decoder takes this matrix as input and predicts the translation as output.\n",
    "\n",
    "Create an encoder-decoder model in the cell below."
   ]
  },
  {
   "cell_type": "code",
   "execution_count": 24,
   "metadata": {},
   "outputs": [],
   "source": [
    "def encdec_model(input_shape, output_sequence_length, english_vocab_size, french_vocab_size):\n",
    "    \"\"\"\n",
    "    Build and train an encoder-decoder model on x and y\n",
    "    :param input_shape: Tuple of input shape\n",
    "    :param output_sequence_length: Length of output sequence\n",
    "    :param english_vocab_size: Number of unique English words in the dataset (not required actually)\n",
    "    :param french_vocab_size: Number of unique French words in the dataset\n",
    "    :return: Keras model built, but not trained\n",
    "    \"\"\"\n",
    "    # OPTIONAL: Implement\n",
    "    learning_rate = 1e-3\n",
    "    encoder_in = Input(shape=input_shape[1:])\n",
    "    x = GRU(512, activation='relu', recurrent_activation='hard_sigmoid',\n",
    "            dropout=0.25, recurrent_dropout=0.25,\n",
    "            return_sequences=False)(encoder_in)\n",
    "    decoder_in = RepeatVector(output_sequence_length)(x)\n",
    "    x = GRU(512, activation='relu', recurrent_activation='hard_sigmoid',\n",
    "            dropout=0.25, recurrent_dropout=0.25,\n",
    "            return_sequences=True)(decoder_in)\n",
    "    decoder_out = TimeDistributed(Dense(french_vocab_size, activation='softmax'))(x)\n",
    "    model = Model(encoder_in, decoder_out)\n",
    "    model.compile(loss=sparse_categorical_crossentropy,\n",
    "                  optimizer=Adam(learning_rate),\n",
    "                  metrics=[custom_sparse_categorical_accuracy])\n",
    "    return model\n",
    "tests.test_encdec_model(encdec_model)"
   ]
  },
  {
   "cell_type": "code",
   "execution_count": 25,
   "metadata": {},
   "outputs": [
    {
     "name": "stdout",
     "output_type": "stream",
     "text": [
      "_________________________________________________________________\n",
      "Layer (type)                 Output Shape              Param #   \n",
      "=================================================================\n",
      "input_8 (InputLayer)         (None, 21, 1)             0         \n",
      "_________________________________________________________________\n",
      "gru_9 (GRU)                  (None, 512)               789504    \n",
      "_________________________________________________________________\n",
      "repeat_vector_2 (RepeatVecto (None, 21, 512)           0         \n",
      "_________________________________________________________________\n",
      "gru_10 (GRU)                 (None, 21, 512)           1574400   \n",
      "_________________________________________________________________\n",
      "time_distributed_8 (TimeDist (None, 21, 344)           176472    \n",
      "=================================================================\n",
      "Total params: 2,540,376\n",
      "Trainable params: 2,540,376\n",
      "Non-trainable params: 0\n",
      "_________________________________________________________________\n",
      "Train on 110288 samples, validate on 27573 samples\n",
      "Epoch 1/10\n",
      "110288/110288 [==============================] - 22s 196us/step - loss: 2.6905 - custom_sparse_categorical_accuracy: 0.4644 - val_loss: nan - val_custom_sparse_categorical_accuracy: 0.5425\n",
      "Epoch 2/10\n",
      "110288/110288 [==============================] - 20s 177us/step - loss: 1.7144 - custom_sparse_categorical_accuracy: 0.5597 - val_loss: nan - val_custom_sparse_categorical_accuracy: 0.5953\n",
      "Epoch 3/10\n",
      "110288/110288 [==============================] - 19s 176us/step - loss: 1.4570 - custom_sparse_categorical_accuracy: 0.5975 - val_loss: nan - val_custom_sparse_categorical_accuracy: 0.6054\n",
      "Epoch 4/10\n",
      "110288/110288 [==============================] - 19s 175us/step - loss: 1.3559 - custom_sparse_categorical_accuracy: 0.6134 - val_loss: nan - val_custom_sparse_categorical_accuracy: 0.6065\n",
      "Epoch 5/10\n",
      "110288/110288 [==============================] - 19s 175us/step - loss: 1.2933 - custom_sparse_categorical_accuracy: 0.6241 - val_loss: nan - val_custom_sparse_categorical_accuracy: 0.6099\n",
      "Epoch 6/10\n",
      "110288/110288 [==============================] - 19s 175us/step - loss: 1.2486 - custom_sparse_categorical_accuracy: 0.6325 - val_loss: nan - val_custom_sparse_categorical_accuracy: 0.6139\n",
      "Epoch 7/10\n",
      "110288/110288 [==============================] - 19s 175us/step - loss: 1.2141 - custom_sparse_categorical_accuracy: 0.6383 - val_loss: nan - val_custom_sparse_categorical_accuracy: 0.6045\n",
      "Epoch 8/10\n",
      "110288/110288 [==============================] - 19s 175us/step - loss: 1.1813 - custom_sparse_categorical_accuracy: 0.6434 - val_loss: nan - val_custom_sparse_categorical_accuracy: 0.5940\n",
      "Epoch 9/10\n",
      "110288/110288 [==============================] - 19s 175us/step - loss: 1.1595 - custom_sparse_categorical_accuracy: 0.6464 - val_loss: nan - val_custom_sparse_categorical_accuracy: 0.6117\n",
      "Epoch 10/10\n",
      "110288/110288 [==============================] - 19s 175us/step - loss: 1.1342 - custom_sparse_categorical_accuracy: 0.6510 - val_loss: nan - val_custom_sparse_categorical_accuracy: 0.6090\n",
      "Train model is saved to encdec_rnn_weights.h5\n"
     ]
    }
   ],
   "source": [
    "#TODO: Train the neural network\n",
    "weights_file = \"encdec_rnn_weights.h5\"\n",
    "if not os.path.isfile(weights_file):\n",
    "    encdec_rnn_model = encdec_model(tmp_x.shape,\n",
    "                                    max_french_sequence_length,\n",
    "                                    english_vocab_size,  # not required actually\n",
    "                                    french_vocab_size)\n",
    "    encdec_rnn_model.summary()\n",
    "    encdec_rnn_model.fit(tmp_x, preproc_french_sentences, batch_size=1024, epochs=10, validation_split=0.2)\n",
    "    encdec_rnn_model.save(weights_file)\n",
    "    print(\"Train model is saved to {}\".format(weights_file))\n",
    "else:\n",
    "    encdec_rnn_model = load_model(weights_file,\n",
    "                                  custom_objects={'custom_sparse_categorical_accuracy':\n",
    "                                                  custom_sparse_categorical_accuracy})\n",
    "    print(\"Train model is loaded from {}\".format(weights_file))\n",
    "    encdec_rnn_model.summary()"
   ]
  },
  {
   "cell_type": "code",
   "execution_count": 26,
   "metadata": {},
   "outputs": [
    {
     "name": "stdout",
     "output_type": "stream",
     "text": [
      "Original English:\n",
      " new jersey is sometimes quiet during autumn , and it is snowy in april .\n",
      "Original French:\n",
      " new jersey est parfois calme pendant l' automne , et il est neigeux en avril .\n",
      "Translated French with an encoder-decoder RNN model:\n",
      " new jersey est parfois parfois en juin mais il est agréable en en <PAD> <PAD> <PAD> <PAD> <PAD> <PAD> <PAD> <PAD>\n"
     ]
    }
   ],
   "source": [
    "# Print original(s)\n",
    "print(\"Original English:\\n\", english_sentences[0])\n",
    "print(\"Original French:\\n\", french_sentences[0])\n",
    "\n",
    "# TODO: Print prediction(s)\n",
    "print(\"Translated French with an encoder-decoder RNN model:\\n\", logits_to_text(bd_rnn_model.predict(tmp_x[:1])[0], french_tokenizer))"
   ]
  },
  {
   "cell_type": "markdown",
   "metadata": {},
   "source": [
    "### Model 5: Custom (IMPLEMENTATION)\n",
    "Use everything you learned from the previous models to create a model that incorporates embedding and a bidirectional rnn into one model."
   ]
  },
  {
   "cell_type": "code",
   "execution_count": 27,
   "metadata": {},
   "outputs": [],
   "source": [
    "def model_final(input_shape, output_sequence_length, english_vocab_size, french_vocab_size):\n",
    "    \"\"\"\n",
    "    Build and train a model that incorporates embedding, encoder-decoder, and bidirectional RNN on x and y\n",
    "    :param input_shape: Tuple of input shape\n",
    "    :param output_sequence_length: Length of output sequence\n",
    "    :param english_vocab_size: Number of unique English words in the dataset\n",
    "    :param french_vocab_size: Number of unique French words in the dataset\n",
    "    :return: Keras model built, but not trained\n",
    "    \"\"\"\n",
    "    # TODO: Implement\n",
    "    learning_rate = 1e-3\n",
    "    input_sequence_length = input_shape[-1]\n",
    "    encoder_in = Input(shape=input_shape[1:])\n",
    "    x = Embedding(input_dim=english_vocab_size,\n",
    "                  output_dim=256,\n",
    "                  input_length=input_sequence_length)(encoder_in)\n",
    "    x = Bidirectional(GRU(512, activation='relu', recurrent_activation='hard_sigmoid',\n",
    "                          dropout=0.25, recurrent_dropout=0.25,\n",
    "                          return_sequences=False))(x)\n",
    "    x = Dense(256, activation='relu')(x)\n",
    "    decoder_in = RepeatVector(output_sequence_length)(x)\n",
    "    x = Bidirectional(GRU(512, activation='relu', recurrent_activation='hard_sigmoid',\n",
    "                          dropout=0.25, recurrent_dropout=0.25,\n",
    "                          return_sequences=True))(decoder_in)\n",
    "    decoder_out = TimeDistributed(Dense(french_vocab_size, activation='softmax'))(x)\n",
    "    model = Model(encoder_in, decoder_out)\n",
    "    model.compile(loss=sparse_categorical_crossentropy,\n",
    "                  optimizer=Adam(learning_rate),\n",
    "                  metrics=[custom_sparse_categorical_accuracy])\n",
    "    return model\n",
    "tests.test_model_final(model_final)"
   ]
  },
  {
   "cell_type": "markdown",
   "metadata": {},
   "source": [
    "## Prediction (IMPLEMENTATION)"
   ]
  },
  {
   "cell_type": "code",
   "execution_count": 28,
   "metadata": {},
   "outputs": [
    {
     "name": "stdout",
     "output_type": "stream",
     "text": [
      "_________________________________________________________________\n",
      "Layer (type)                 Output Shape              Param #   \n",
      "=================================================================\n",
      "input_10 (InputLayer)        (None, 15)                0         \n",
      "_________________________________________________________________\n",
      "embedding_4 (Embedding)      (None, 15, 256)           50944     \n",
      "_________________________________________________________________\n",
      "bidirectional_5 (Bidirection (None, 1024)              2362368   \n",
      "_________________________________________________________________\n",
      "dense_11 (Dense)             (None, 256)               262400    \n",
      "_________________________________________________________________\n",
      "repeat_vector_4 (RepeatVecto (None, 21, 256)           0         \n",
      "_________________________________________________________________\n",
      "bidirectional_6 (Bidirection (None, 21, 1024)          2362368   \n",
      "_________________________________________________________________\n",
      "time_distributed_10 (TimeDis (None, 21, 344)           352600    \n",
      "=================================================================\n",
      "Total params: 5,390,680\n",
      "Trainable params: 5,390,680\n",
      "Non-trainable params: 0\n",
      "_________________________________________________________________\n",
      "Train on 110288 samples, validate on 27573 samples\n",
      "Epoch 1/10\n",
      "110288/110288 [==============================] - 39s 350us/step - loss: 2.6038 - custom_sparse_categorical_accuracy: 0.4736 - val_loss: nan - val_custom_sparse_categorical_accuracy: 0.5761\n",
      "Epoch 2/10\n",
      "110288/110288 [==============================] - 34s 308us/step - loss: 1.4049 - custom_sparse_categorical_accuracy: 0.6206 - val_loss: nan - val_custom_sparse_categorical_accuracy: 0.6820\n",
      "Epoch 3/10\n",
      "110288/110288 [==============================] - 34s 306us/step - loss: 1.0686 - custom_sparse_categorical_accuracy: 0.6911 - val_loss: nan - val_custom_sparse_categorical_accuracy: 0.7242\n",
      "Epoch 4/10\n",
      "110288/110288 [==============================] - 34s 308us/step - loss: 0.9141 - custom_sparse_categorical_accuracy: 0.7226 - val_loss: nan - val_custom_sparse_categorical_accuracy: 0.7567\n",
      "Epoch 5/10\n",
      "110288/110288 [==============================] - 34s 307us/step - loss: 0.7934 - custom_sparse_categorical_accuracy: 0.7548 - val_loss: nan - val_custom_sparse_categorical_accuracy: 0.7959\n",
      "Epoch 6/10\n",
      "110288/110288 [==============================] - 34s 306us/step - loss: 0.6784 - custom_sparse_categorical_accuracy: 0.7878 - val_loss: nan - val_custom_sparse_categorical_accuracy: 0.8210\n",
      "Epoch 7/10\n",
      "110288/110288 [==============================] - 34s 307us/step - loss: 0.5838 - custom_sparse_categorical_accuracy: 0.8148 - val_loss: nan - val_custom_sparse_categorical_accuracy: 0.8581\n",
      "Epoch 8/10\n",
      "110288/110288 [==============================] - 34s 307us/step - loss: 0.4867 - custom_sparse_categorical_accuracy: 0.8445 - val_loss: nan - val_custom_sparse_categorical_accuracy: 0.8857\n",
      "Epoch 9/10\n",
      "110288/110288 [==============================] - 34s 306us/step - loss: 0.4060 - custom_sparse_categorical_accuracy: 0.8695 - val_loss: nan - val_custom_sparse_categorical_accuracy: 0.9130\n",
      "Epoch 10/10\n",
      "110288/110288 [==============================] - 34s 306us/step - loss: 0.3350 - custom_sparse_categorical_accuracy: 0.8916 - val_loss: nan - val_custom_sparse_categorical_accuracy: 0.9302\n",
      "Train model is saved to final_rnn_weights.h5\n",
      "Sample 1:\n",
      "il a vu un vieux camion jaune <PAD> <PAD> <PAD> <PAD> <PAD> <PAD> <PAD> <PAD> <PAD> <PAD> <PAD> <PAD> <PAD> <PAD>\n",
      "Il a vu un vieux camion jaune\n",
      "Sample 2:\n",
      "new jersey est parfois calme pendant l' automne et il et neigeux en avril <PAD> <PAD> <PAD> <PAD> <PAD> <PAD> <PAD>\n",
      "new jersey est parfois calme pendant l' automne et il est neigeux en avril <PAD> <PAD> <PAD> <PAD> <PAD> <PAD> <PAD>\n"
     ]
    }
   ],
   "source": [
    "def final_predictions(x, y, x_tk, y_tk, weights_file):\n",
    "    \"\"\"\n",
    "    Gets predictions using the final model\n",
    "    :param x: Preprocessed English data\n",
    "    :param y: Preprocessed French data\n",
    "    :param x_tk: English tokenizer\n",
    "    :param y_tk: French tokenizer\n",
    "    \"\"\"\n",
    "    # TODO: Train neural network using model_final\n",
    "    if not os.path.isfile(weights_file):\n",
    "        model = model_final(x.shape,\n",
    "                            y.shape[-2],\n",
    "                            len(x_tk.word_index),\n",
    "                            len(y_tk.word_index))\n",
    "        model.summary()\n",
    "        model.fit(x, y, batch_size=1024, epochs=10, validation_split=0.2)\n",
    "        model.save(weights_file)\n",
    "        print(\"Train model is saved to {}\".format(weights_file))\n",
    "    else:\n",
    "        model = load_model(weights_file,\n",
    "                           custom_objects={'custom_sparse_categorical_accuracy':\n",
    "                                           custom_sparse_categorical_accuracy})\n",
    "        print(\"Train model is loaded from {}\".format(weights_file))\n",
    "        model.summary()\n",
    "\n",
    "    \n",
    "    ## DON'T EDIT ANYTHING BELOW THIS LINE\n",
    "    y_id_to_word = {value: key for key, value in y_tk.word_index.items()}\n",
    "    y_id_to_word[0] = '<PAD>'\n",
    "\n",
    "    sentence = 'he saw a old yellow truck'\n",
    "    sentence = [x_tk.word_index[word] for word in sentence.split()]\n",
    "    sentence = pad_sequences([sentence], maxlen=x.shape[-1], padding='post')\n",
    "    sentences = np.array([sentence[0], x[0]])\n",
    "    predictions = model.predict(sentences, len(sentences))\n",
    "\n",
    "    print('Sample 1:')\n",
    "    print(' '.join([y_id_to_word[np.argmax(x)] for x in predictions[0]]))\n",
    "    print('Il a vu un vieux camion jaune')\n",
    "    print('Sample 2:')\n",
    "    print(' '.join([y_id_to_word[np.argmax(x)] for x in predictions[1]]))\n",
    "    print(' '.join([y_id_to_word[np.max(x)] for x in y[0]]))\n",
    "\n",
    "    \n",
    "final_predictions(preproc_english_sentences,\n",
    "                  preproc_french_sentences,\n",
    "                  english_tokenizer,\n",
    "                  french_tokenizer,\n",
    "                  weights_file=\"final_rnn_weights.h5\")"
   ]
  },
  {
   "cell_type": "markdown",
   "metadata": {},
   "source": [
    "## Submission\n",
    "When you're ready to submit, complete the following steps:\n",
    "1. Review the [rubric](https://review.udacity.com/#!/rubrics/1004/view) to ensure your submission meets all requirements to pass\n",
    "2. Generate an HTML version of this notebook\n",
    "\n",
    "  - Run the next cell to attempt automatic generation (this is the recommended method in Workspaces)\n",
    "  - Navigate to **FILE -> Download as -> HTML (.html)**\n",
    "  - Manually generate a copy using `nbconvert` from your shell terminal\n",
    "```\n",
    "$ pip install nbconvert\n",
    "$ python -m nbconvert machine_translation.ipynb\n",
    "```\n",
    "  \n",
    "3. Submit the project\n",
    "\n",
    "  - If you are in a Workspace, simply click the \"Submit Project\" button (bottom towards the right)\n",
    "  \n",
    "  - Otherwise, add the following files into a zip archive and submit them \n",
    "  - `helper.py`\n",
    "  - `machine_translation.ipynb`\n",
    "  - `machine_translation.html`\n",
    "    - You can export the notebook by navigating to **File -> Download as -> HTML (.html)**."
   ]
  },
  {
   "cell_type": "code",
   "execution_count": 29,
   "metadata": {},
   "outputs": [
    {
     "data": {
      "text/plain": [
       "['[NbConvertApp] Converting notebook machine_translation.ipynb to html',\n",
       " '[NbConvertApp] Writing 400415 bytes to machine_translation.html']"
      ]
     },
     "execution_count": 29,
     "metadata": {},
     "output_type": "execute_result"
    }
   ],
   "source": [
    "!!python3.6 -m nbconvert *.ipynb"
   ]
  },
  {
   "cell_type": "markdown",
   "metadata": {},
   "source": [
    "## Optional Enhancements\n",
    "\n",
    "This project focuses on learning various network architectures for machine translation, but we don't evaluate the models according to best practices by splitting the data into separate test & training sets -- so the model accuracy is overstated. Use the [`sklearn.model_selection.train_test_split()`](http://scikit-learn.org/stable/modules/generated/sklearn.model_selection.train_test_split.html) function to create separate training & test datasets, then retrain each of the models using only the training set and evaluate the prediction accuracy using the hold out test set. Does the \"best\" model change?"
   ]
  }
 ],
 "metadata": {
  "kernelspec": {
   "display_name": "Python 3",
   "language": "python",
   "name": "python3"
  },
  "language_info": {
   "codemirror_mode": {
    "name": "ipython",
    "version": 3
   },
   "file_extension": ".py",
   "mimetype": "text/x-python",
   "name": "python",
   "nbconvert_exporter": "python",
   "pygments_lexer": "ipython3",
   "version": "3.6.8"
  }
 },
 "nbformat": 4,
 "nbformat_minor": 1
}
